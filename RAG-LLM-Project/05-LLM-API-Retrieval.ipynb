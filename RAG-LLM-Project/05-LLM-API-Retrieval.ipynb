{
 "cells": [
  {
   "cell_type": "code",
   "execution_count": 14,
   "id": "820509d1",
   "metadata": {},
   "outputs": [],
   "source": [
    "import google.generativeai as genai\n",
    "from sentence_transformers import SentenceTransformer\n",
    "import chromadb\n"
   ]
  },
  {
   "cell_type": "code",
   "execution_count": null,
   "id": "9f229461",
   "metadata": {},
   "outputs": [],
   "source": [
    "genai.configure(api_key=\"Ish-key\")\n",
    "#Setting up the API key "
   ]
  },
  {
   "cell_type": "code",
   "execution_count": 16,
   "id": "f6ac3865",
   "metadata": {},
   "outputs": [],
   "source": [
    "#load The Embeddings(of the Question) and Chunks \n",
    "import pickle\n",
    "with open('chunks.pkl','rb') as f:\n",
    "    chunks = pickle.load(f)\n",
    "    \n",
    "with open('embeddings.pkl', 'rb') as f:\n",
    "    embeddings = pickle.load(f)\n",
    "       "
   ]
  },
  {
   "cell_type": "code",
   "execution_count": 17,
   "id": "5f38bef4",
   "metadata": {},
   "outputs": [],
   "source": [
    "model = SentenceTransformer('all-MiniLM-L6-v2')"
   ]
  },
  {
   "cell_type": "code",
   "execution_count": 18,
   "id": "26d38d1c",
   "metadata": {},
   "outputs": [
    {
     "name": "stdout",
     "output_type": "stream",
     "text": [
      "Number of chunks in collection: 272\n"
     ]
    }
   ],
   "source": [
    "# question = \"How is AI used in different industries?\"\n",
    "# question_embedding = model.encode(question)\n",
    "\n",
    "chroma_client = chromadb.PersistentClient(path=\"chroma_db\")\n",
    "collection = chroma_client.get_or_create_collection(name=\"test-ishaan\")\n",
    "print(\"Number of chunks in collection:\", collection.count())\n",
    "\n"
   ]
  },
  {
   "cell_type": "code",
   "execution_count": 19,
   "id": "10bdd142",
   "metadata": {},
   "outputs": [],
   "source": [
    "question = \"How is AI used in healthcare?\""
   ]
  },
  {
   "cell_type": "code",
   "execution_count": 20,
   "id": "c1a252ee",
   "metadata": {},
   "outputs": [],
   "source": [
    "question_embeddings = model.encode(question)"
   ]
  },
  {
   "cell_type": "code",
   "execution_count": 21,
   "id": "e48a91a8",
   "metadata": {},
   "outputs": [],
   "source": [
    "#Now We have to Find The Relevant Chunks From The Collection"
   ]
  },
  {
   "cell_type": "code",
   "execution_count": 22,
   "id": "9688df05",
   "metadata": {},
   "outputs": [
    {
     "name": "stdout",
     "output_type": "stream",
     "text": [
      "Retrieved:::\n",
      " Applications\n",
      "AI and machine learning technology is used in most of the essential applications of the 2020s, including:\n",
      "search engines (such as Google Search), targeting online advertisements, recommendation systems\n",
      "(offered by Netflix, YouTube or Amazon), driving internet traffic, targeted advertising (AdSense,\n",
      "Facebook), virtual assistants (such as Siri or Alexa), autonomous vehicles (including drones, ADAS and\n",
      "self-driving cars), automatic language translation (Microsoft Translator, Google Translate), facial\n",
      "recognition (Apple's FaceID or Microsoft's DeepFace and Google's FaceNet) and image labeling (used by\n",
      "Facebook, Apple's Photos and TikTok). The deployment of AI may be overseen by a chief automation\n",
      "officer (CAO).\n",
      "Health and medicine\n",
      "The application of AI in medicine and medical research has the potential to increase patient care and\n",
      "quality of life.[134] Through the lens of the Hippocratic Oath, medical professionals are ethically\n",
      "---\n",
      "Other industry-specific tasks\n",
      "There are also thousands of successful AI applications used to solve specific problems for specific\n",
      "industries or institutions. In a 2017 survey, one in five companies reported having incorporated \"AI\" in\n",
      "some offerings or processes.[197] A few examples are energy storage, medical diagnosis, military\n",
      "logistics, applications that predict the result of judicial decisions, foreign policy, or supply chain\n",
      "management.\n",
      "AI applications for evacuation and disaster management are growing. AI has been used to investigate\n",
      "patterns in large-scale and small-scale evacuations using historical data from GPS, videos or social\n",
      "media. Furthermore, AI can provide real-time information on the evacuation conditions.[198][199][200]\n",
      "In agriculture, AI has helped farmers to increase yield and identify areas that need irrigation, fertilization,\n",
      "pesticide treatments. Agronomists use AI to conduct research and development. AI has been used to\n",
      "---\n",
      "applications, often without being called AI because once something becomes useful enough and common\n",
      "enough it's not labeled AI anymore.\"[2][3]\n",
      "Various subfields of AI research are centered around particular goals and the use of particular tools. The\n",
      "traditional goals of AI research include learning, reasoning, knowledge representation, planning, natural\n",
      "language processing, perception, and support for robotics.[a] To reach these goals, AI researchers have\n",
      "adapted and integrated a wide range of techniques, including search and mathematical optimization,\n",
      "formal logic, artificial neural networks, and methods based on statistics, operations research, and\n",
      "economics.[b] AI also draws upon psychology, linguistics, philosophy, neuroscience, and other fields.[4]\n",
      "Some companies, such as OpenAI, Google DeepMind and Meta,[5] aim to create artificial general\n",
      "intelligence (AGI)—AI that can complete virtually any cognitive task at least as well as a human.\n"
     ]
    }
   ],
   "source": [
    "results = collection.query(\n",
    "    query_embeddings=[question_embeddings],\n",
    "    n_results=3  \n",
    ")\n",
    "retrieved_chunks = results['documents'][0]\n",
    "print(\"Retrieved:::\\n\", \"\\n---\\n\".join(retrieved_chunks))"
   ]
  },
  {
   "cell_type": "code",
   "execution_count": null,
   "id": "a905b536",
   "metadata": {},
   "outputs": [],
   "source": [
    "context = \"\\n---\\n\".join(chunks)  \n",
    "\n",
    "prompt = f\"\"\"Context:{context}\n",
    "\n",
    "Question: {question}\n",
    "\n",
    "Answer:\"\"\""
   ]
  },
  {
   "cell_type": "code",
   "execution_count": 29,
   "id": "ffbc0c4e",
   "metadata": {},
   "outputs": [
    {
     "name": "stdout",
     "output_type": "stream",
     "text": [
      "Gemini response:\n",
      " According to the text, AI is used in healthcare in the following ways:\n",
      "\n",
      "*   **Medical Research:** AI is used for processing and integrating big data, particularly for organoid and tissue engineering development, and overcoming discrepancies in funding allocation to different fields of research.\n",
      "\n",
      "*   **Biomedical Pathway Understanding:** AI tools deepen the understanding of biomedically relevant pathways, like AlphaFold 2 approximating the 3D structure of a protein.\n",
      "\n",
      "*   **Drug Discovery:** AI guides drug discovery to find new classes of antibiotics and accelerate the search for drug treatments, as shown in the search for Parkinson's disease treatments.\n",
      "\n",
      "*   **Patient Care and Quality of Life:** the application of AI in medicine and medical research increases patient care and quality of life.&#x20;\n",
      "\n"
     ]
    }
   ],
   "source": [
    "import google.generativeai as genai\n",
    "\n",
    "gemini_model = genai.GenerativeModel(\"gemini-2.0-flash-001\")\n",
    "response = gemini_model.generate_content(prompt)\n",
    "\n",
    "print(\"Gemini response:\\n\", response.text)"
   ]
  }
 ],
 "metadata": {
  "kernelspec": {
   "display_name": "Python 3",
   "language": "python",
   "name": "python3"
  },
  "language_info": {
   "codemirror_mode": {
    "name": "ipython",
    "version": 3
   },
   "file_extension": ".py",
   "mimetype": "text/x-python",
   "name": "python",
   "nbconvert_exporter": "python",
   "pygments_lexer": "ipython3",
   "version": "3.11.9"
  }
 },
 "nbformat": 4,
 "nbformat_minor": 5
}
