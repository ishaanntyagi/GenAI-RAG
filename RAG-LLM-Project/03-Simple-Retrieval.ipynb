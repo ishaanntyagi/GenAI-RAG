{
 "cells": [
  {
   "cell_type": "code",
   "execution_count": null,
   "id": "9e8a93b8",
   "metadata": {},
   "outputs": [],
   "source": [
    "import pickle\n",
    " \n",
    "with open('chunks.pkl', 'rb') as f:\n",
    "    chunks = pickle.load(f)\n",
    "    \n",
    "with open('embeddings.pkl', 'rb') as f:\n",
    "    embeddings = pickle.load(f)   \n",
    "    "
   ]
  },
  {
   "cell_type": "code",
   "execution_count": 5,
   "id": "4f975c30",
   "metadata": {},
   "outputs": [],
   "source": [
    "from sentence_transformers import SentenceTransformer\n",
    "\n",
    "model = SentenceTransformer('all-MiniLM-L6-v2')\n",
    "question = \"What are some high-profile applications of AI?\"\n",
    "question_embedding = model.encode(question)"
   ]
  },
  {
   "cell_type": "code",
   "execution_count": 8,
   "id": "c8295791",
   "metadata": {},
   "outputs": [
    {
     "name": "stdout",
     "output_type": "stream",
     "text": [
      "Most relevant chunk:\n",
      "\n",
      "Artificial intelligence\n",
      "Artificial intelligence (AI) is the capability of computational systems to perform tasks typically\n",
      "associated with human intelligence, such as learning, reasoning, problem-solving, perception, and\n",
      "decision-making. It is a field of research in computer science that develops and studies methods and\n",
      "software that enable machines to perceive their environment and use learning and intelligence to take\n",
      "actions that maximize their chances of achieving defined goals.[1]\n",
      "High-profile applications of AI include advanced web search engines (e.g., Google Search);\n",
      "recommendation systems (used by YouTube, Amazon, and Netflix); virtual assistants (e.g., Google\n",
      "Assistant, Siri, and Alexa); autonomous vehicles (e.g., Waymo); generative and creative tools (e.g.,\n",
      "language models and AI art); and superhuman play and analysis in strategy games (e.g., chess and Go).\n",
      "However, many AI applications are not perceived as AI: \"A lot of cutting edge AI has filtered into general\n"
     ]
    }
   ],
   "source": [
    "#Compute Similarities \n",
    "import numpy as np\n",
    "\n",
    "def cosine_similarity(vec1, vec2):\n",
    "    # Compute dot product\n",
    "    dot = sum(a * b for a, b in zip(vec1, vec2))\n",
    "    # Compute norm (length) of each vector\n",
    "    norm1 = sum(a * a for a in vec1) ** 0.5\n",
    "    norm2 = sum(b * b for b in vec2) ** 0.5\n",
    "    # Avoid division by zero\n",
    "    if norm1 == 0 or norm2 == 0:\n",
    "        return 0\n",
    "    return dot / (norm1 * norm2)\n",
    "\n",
    "similarities = [cosine_similarity(chunk_embedding, question_embedding) for chunk_embedding in embeddings]\n",
    "\n",
    "# Find the index of the most similar chunk\n",
    "most_similar_index = similarities.index(max(similarities))\n",
    "\n",
    "print(\"Most relevant chunk:\\n\")\n",
    "print(chunks[most_similar_index])"
   ]
  },
  {
   "cell_type": "code",
   "execution_count": null,
   "id": "acd0333a",
   "metadata": {},
   "outputs": [],
   "source": []
  }
 ],
 "metadata": {
  "kernelspec": {
   "display_name": "Python 3",
   "language": "python",
   "name": "python3"
  },
  "language_info": {
   "codemirror_mode": {
    "name": "ipython",
    "version": 3
   },
   "file_extension": ".py",
   "mimetype": "text/x-python",
   "name": "python",
   "nbconvert_exporter": "python",
   "pygments_lexer": "ipython3",
   "version": "3.11.9"
  }
 },
 "nbformat": 4,
 "nbformat_minor": 5
}
