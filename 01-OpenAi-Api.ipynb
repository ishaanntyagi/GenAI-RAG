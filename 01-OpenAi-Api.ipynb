{
 "cells": [
  {
   "cell_type": "code",
   "execution_count": 1,
   "id": "d20d17f0",
   "metadata": {},
   "outputs": [],
   "source": [
    "import openai"
   ]
  },
  {
   "cell_type": "code",
   "execution_count": null,
   "id": "759ee725",
   "metadata": {},
   "outputs": [],
   "source": [
    "client = openai.OpenAI(api_key=\"Key\")"
   ]
  },
  {
   "cell_type": "code",
   "execution_count": 3,
   "id": "5bed6dcd",
   "metadata": {},
   "outputs": [],
   "source": [
    "prompt = \"Tell me a fun fact about SmartPhones.\""
   ]
  },
  {
   "cell_type": "code",
   "execution_count": null,
   "id": "741096bd",
   "metadata": {},
   "outputs": [],
   "source": [
    "\n",
    "# Prepare the messages for chat-based completion\n",
    "messages = [\n",
    "    {\"role\": \"system\", \"content\": \"You are a helpful assistant.\"},\n",
    "    {\"role\": \"user\", \"content\": prompt}\n",
    "]\n",
    "\n",
    "# Calling the OpenAI API to get a response\n",
    "response = client.chat.completions.create(\n",
    "    model=\"gpt-3.5-turbo\",\n",
    "    messages=messages,\n",
    "    max_tokens=10,\n",
    "    temperature=0.7\n",
    ")\n",
    "\n",
    "#ai response \n",
    "print(\"AI:\", response.choices[0].message.content)"
   ]
  },
  {
   "cell_type": "markdown",
   "id": "b2e17817",
   "metadata": {},
   "source": []
  }
 ],
 "metadata": {
  "kernelspec": {
   "display_name": "Python 3",
   "language": "python",
   "name": "python3"
  },
  "language_info": {
   "codemirror_mode": {
    "name": "ipython",
    "version": 3
   },
   "file_extension": ".py",
   "mimetype": "text/x-python",
   "name": "python",
   "nbconvert_exporter": "python",
   "pygments_lexer": "ipython3",
   "version": "3.11.9"
  }
 },
 "nbformat": 4,
 "nbformat_minor": 5
}
