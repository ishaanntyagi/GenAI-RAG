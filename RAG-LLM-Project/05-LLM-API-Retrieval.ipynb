{
 "cells": [
  {
   "cell_type": "code",
   "execution_count": 1,
   "id": "820509d1",
   "metadata": {},
   "outputs": [
    {
     "name": "stdout",
     "output_type": "stream",
     "text": [
      "WARNING:tensorflow:From c:\\Users\\ishaan.narayan\\AppData\\Local\\Programs\\Python\\Python311\\Lib\\site-packages\\tf_keras\\src\\losses.py:2976: The name tf.losses.sparse_softmax_cross_entropy is deprecated. Please use tf.compat.v1.losses.sparse_softmax_cross_entropy instead.\n",
      "\n"
     ]
    }
   ],
   "source": [
    "import google.generativeai as genai\n",
    "from sentence_transformers import SentenceTransformer\n",
    "import chromadb\n"
   ]
  },
  {
   "cell_type": "code",
   "execution_count": 2,
   "id": "9f229461",
   "metadata": {},
   "outputs": [],
   "source": [
    "genai.configure(api_key=\"ish_key\")\n",
    "#Setting up the API key "
   ]
  },
  {
   "cell_type": "code",
   "execution_count": 3,
   "id": "f6ac3865",
   "metadata": {},
   "outputs": [],
   "source": [
    "#load The Embeddings(of the Question) and Chunks \n",
    "import pickle\n",
    "with open('chunks.pkl','rb') as f:\n",
    "    chunks = pickle.load(f)\n",
    "    \n",
    "with open('embeddings.pkl', 'rb') as f:\n",
    "    embeddings = pickle.load(f)\n",
    "       "
   ]
  },
  {
   "cell_type": "code",
   "execution_count": 4,
   "id": "5f38bef4",
   "metadata": {},
   "outputs": [],
   "source": [
    "model = SentenceTransformer('all-MiniLM-L6-v2')"
   ]
  },
  {
   "cell_type": "code",
   "execution_count": 5,
   "id": "26d38d1c",
   "metadata": {},
   "outputs": [
    {
     "name": "stdout",
     "output_type": "stream",
     "text": [
      "Number of chunks in collection: 272\n"
     ]
    }
   ],
   "source": [
    "# question = \"How is AI used in different industries?\"\n",
    "# question_embedding = model.encode(question)\n",
    "\n",
    "chroma_client = chromadb.PersistentClient(path=\"chroma_db\")\n",
    "collection = chroma_client.get_or_create_collection(name=\"test-ishaan\")\n",
    "print(\"Number of chunks in collection:\", collection.count())\n",
    "\n"
   ]
  },
  {
   "cell_type": "code",
   "execution_count": 6,
   "id": "10bdd142",
   "metadata": {},
   "outputs": [],
   "source": [
    "question = \"How is AI used in healthcare?\""
   ]
  },
  {
   "cell_type": "code",
   "execution_count": 7,
   "id": "c1a252ee",
   "metadata": {},
   "outputs": [],
   "source": [
    "question_embeddings = model.encode(question)"
   ]
  },
  {
   "cell_type": "code",
   "execution_count": 8,
   "id": "e48a91a8",
   "metadata": {},
   "outputs": [],
   "source": [
    "#Now We have to Find The Relevant Chunks From The Collection "
   ]
  },
  {
   "cell_type": "code",
   "execution_count": null,
   "id": "9688df05",
   "metadata": {},
   "outputs": [],
   "source": []
  }
 ],
 "metadata": {
  "kernelspec": {
   "display_name": "Python 3",
   "language": "python",
   "name": "python3"
  },
  "language_info": {
   "codemirror_mode": {
    "name": "ipython",
    "version": 3
   },
   "file_extension": ".py",
   "mimetype": "text/x-python",
   "name": "python",
   "nbconvert_exporter": "python",
   "pygments_lexer": "ipython3",
   "version": "3.11.9"
  }
 },
 "nbformat": 4,
 "nbformat_minor": 5
}
