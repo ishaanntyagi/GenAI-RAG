{
 "cells": [
  {
   "cell_type": "code",
   "execution_count": null,
   "id": "9e8a93b8",
   "metadata": {},
   "outputs": [],
   "source": [
    "import pickle\n",
    " \n",
    "with open('chunks.pkl', 'rb') as f:\n",
    "    chunks = pickle.load(f)\n",
    "    \n",
    "with open('embeddings.pkl', 'rb') as f:\n",
    "    embeddings = pickle.load(f)   \n",
    "    "
   ]
  },
  {
   "cell_type": "code",
   "execution_count": 5,
   "id": "4f975c30",
   "metadata": {},
   "outputs": [],
   "source": [
    "from sentence_transformers import SentenceTransformer\n",
    "\n",
    "model = SentenceTransformer('all-MiniLM-L6-v2')\n",
    "question = \"What are some high-profile applications of AI?\"\n",
    "question_embedding = model.encode(question)"
   ]
  },
  {
   "cell_type": "code",
   "execution_count": null,
   "id": "c8295791",
   "metadata": {},
   "outputs": [],
   "source": [
    "#Compute Similarities \n",
    "\n",
    "import numpy as np \n"
   ]
  }
 ],
 "metadata": {
  "kernelspec": {
   "display_name": "Python 3",
   "language": "python",
   "name": "python3"
  },
  "language_info": {
   "codemirror_mode": {
    "name": "ipython",
    "version": 3
   },
   "file_extension": ".py",
   "mimetype": "text/x-python",
   "name": "python",
   "nbconvert_exporter": "python",
   "pygments_lexer": "ipython3",
   "version": "3.11.9"
  }
 },
 "nbformat": 4,
 "nbformat_minor": 5
}
