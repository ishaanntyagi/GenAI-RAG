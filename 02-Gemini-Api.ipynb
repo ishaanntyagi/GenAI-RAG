{
 "cells": [
  {
   "cell_type": "code",
   "execution_count": null,
   "id": "70cbbbc0",
   "metadata": {},
   "outputs": [
    {
     "name": "stdout",
     "output_type": "stream",
     "text": [
      "In the village of Valorant, Gekko, known for his loyal wingman, could single-handedly handle spike duties: planting, defusing, and stunning enemies. One day, a mysterious fog rolled into Valorant, blurring the lines between reality and illusion.\n",
      "\n",
      "People began to see things that weren't there, and the once-clear strategies of attack and defense became muddled. Gekko, usually unflappable, found his wingman acting strangely. It would bark at empty corners and chase shadows, disrupting their coordinated assaults.\n",
      "\n",
      "A powerful enemy, known as the Illusionist, was manipulating the fog, turning their strengths into weaknesses. Gekko realized he had to adapt. He taught his wingman new commands, utilizing its paranoia to sniff out hidden enemies and disrupt the illusions.\n",
      "\n",
      "Together, they ventured into the heart of the fog, facing their deepest fears and battling phantom foes. Gekko, trusting his instincts and the unpredictable nature of his wingman, finally confronted the Illusionist.\n",
      "\n",
      "In a final, desperate move, Gekko unleashed his wingman, causing a chain reaction of confusion and disorientation that shattered the illusions. The fog dissipated, revealing the real Valorant, and the village was safe, thanks to the unlikely duo.\n",
      "\n"
     ]
    }
   ],
   "source": [
    "import google.generativeai as genai\n",
    "\n",
    "\n",
    "gemini_api_key = \"KEY :)\" \n",
    "\n",
    "\n",
    "genai.configure(api_key=gemini_api_key)\n",
    "\n",
    "\n",
    "model = genai.GenerativeModel(\"models/gemini-2.0-flash-001\")\n",
    "\n",
    "\n",
    "prompt = \"IN the village named Valorant , There was a Guy named Gekko who had a wingman, he could plant the spike , defuse the spike and Stun the enemies, but  , now continue the story in not more than 30 lines\"\n",
    "\n",
    "\n",
    "response = model.generate_content(prompt)\n",
    "\n",
    "\n",
    "print(response.text)\n"
   ]
  },
  {
   "cell_type": "code",
   "execution_count": null,
   "id": "74b73059",
   "metadata": {},
   "outputs": [
    {
     "name": "stdout",
     "output_type": "stream",
     "text": [
      "Listing available Gemini models that support 'generateContent':\n",
      "\n",
      " - models/gemini-1.0-pro-vision-latest\n",
      " - models/gemini-pro-vision\n",
      " - models/gemini-1.5-pro-latest\n",
      " - models/gemini-1.5-pro-002\n",
      " - models/gemini-1.5-pro\n",
      " - models/gemini-1.5-flash-latest\n",
      " - models/gemini-1.5-flash\n",
      " - models/gemini-1.5-flash-002\n",
      " - models/gemini-1.5-flash-8b\n",
      " - models/gemini-1.5-flash-8b-001\n",
      " - models/gemini-1.5-flash-8b-latest\n",
      " - models/gemini-2.5-pro-preview-03-25\n",
      " - models/gemini-2.5-flash-preview-04-17\n",
      " - models/gemini-2.5-flash-preview-05-20\n",
      " - models/gemini-2.5-flash\n",
      " - models/gemini-2.5-flash-preview-04-17-thinking\n",
      " - models/gemini-2.5-flash-lite-preview-06-17\n",
      " - models/gemini-2.5-pro-preview-05-06\n",
      " - models/gemini-2.5-pro-preview-06-05\n",
      " - models/gemini-2.5-pro\n",
      " - models/gemini-2.0-flash-exp\n",
      " - models/gemini-2.0-flash\n",
      " - models/gemini-2.0-flash-001\n",
      " - models/gemini-2.0-flash-exp-image-generation\n",
      " - models/gemini-2.0-flash-lite-001\n",
      " - models/gemini-2.0-flash-lite\n",
      " - models/gemini-2.0-flash-preview-image-generation\n",
      " - models/gemini-2.0-flash-lite-preview-02-05\n",
      " - models/gemini-2.0-flash-lite-preview\n",
      " - models/gemini-2.0-pro-exp\n",
      " - models/gemini-2.0-pro-exp-02-05\n",
      " - models/gemini-exp-1206\n",
      " - models/gemini-2.0-flash-thinking-exp-01-21\n",
      " - models/gemini-2.0-flash-thinking-exp\n",
      " - models/gemini-2.0-flash-thinking-exp-1219\n",
      " - models/gemini-2.5-flash-preview-tts\n",
      " - models/gemini-2.5-pro-preview-tts\n",
      " - models/learnlm-2.0-flash-experimental\n",
      " - models/gemma-3-1b-it\n",
      " - models/gemma-3-4b-it\n",
      " - models/gemma-3-12b-it\n",
      " - models/gemma-3-27b-it\n",
      " - models/gemma-3n-e4b-it\n",
      " - models/gemma-3n-e2b-it\n",
      "\n",
      "(If no models are listed, check your API key and internet connection.)\n",
      "Use one of the listed model names (e.g., 'models/gemini-1.0-pro') in your main code.\n"
     ]
    }
   ],
   "source": [
    "\n"
   ]
  }
 ],
 "metadata": {
  "kernelspec": {
   "display_name": "Python 3",
   "language": "python",
   "name": "python3"
  },
  "language_info": {
   "codemirror_mode": {
    "name": "ipython",
    "version": 3
   },
   "file_extension": ".py",
   "mimetype": "text/x-python",
   "name": "python",
   "nbconvert_exporter": "python",
   "pygments_lexer": "ipython3",
   "version": "3.11.9"
  }
 },
 "nbformat": 4,
 "nbformat_minor": 5
}
