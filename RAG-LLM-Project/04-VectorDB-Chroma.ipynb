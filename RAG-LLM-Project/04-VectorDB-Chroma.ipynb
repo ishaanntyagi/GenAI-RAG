{
 "cells": [
  {
   "cell_type": "code",
   "execution_count": 4,
   "id": "ce4a490d",
   "metadata": {},
   "outputs": [],
   "source": [
    "import chromadb\n",
    "#we will be using the ChromaDb for Storing The Embeddings in Vector Db"
   ]
  },
  {
   "cell_type": "code",
   "execution_count": 5,
   "id": "f5198354",
   "metadata": {},
   "outputs": [],
   "source": [
    "# chroma_client = chromadb.Client()\n",
    "chroma_client = chromadb.PersistentClient(path=\"chroma_db\")\n",
    "#Connecting the Local to Chroma Db"
   ]
  },
  {
   "cell_type": "code",
   "execution_count": 6,
   "id": "34d6de74",
   "metadata": {},
   "outputs": [],
   "source": [
    "collection = chroma_client.get_or_create_collection(name=\"test-ishaan\")\n",
    "#Creating a Collection"
   ]
  },
  {
   "cell_type": "code",
   "execution_count": 7,
   "id": "d8a66385",
   "metadata": {},
   "outputs": [],
   "source": [
    "import pickle\n",
    "with open('chunks.pkl','rb') as f:\n",
    "    chunks = pickle.load(f)\n",
    "    \n",
    "with open('embeddings.pkl', 'rb') as f:\n",
    "    embeddings = pickle.load(f)"
   ]
  },
  {
   "cell_type": "code",
   "execution_count": 8,
   "id": "53dd55e2",
   "metadata": {},
   "outputs": [],
   "source": [
    "ids = [\"chunk-\" + str(i) for i in range(len(chunks))]"
   ]
  },
  {
   "cell_type": "code",
   "execution_count": 9,
   "id": "857b5ded",
   "metadata": {},
   "outputs": [
    {
     "name": "stdout",
     "output_type": "stream",
     "text": [
      "Chunks saved\n"
     ]
    }
   ],
   "source": [
    "# Add your data to the Chroma collection\n",
    "collection.add(\n",
    "    embeddings = embeddings,  \n",
    "    documents  = chunks,       \n",
    "    ids        = ids                \n",
    ")\n",
    "print(\"Chunks saved\")\n"
   ]
  },
  {
   "cell_type": "code",
   "execution_count": 10,
   "id": "e823d3a4",
   "metadata": {},
   "outputs": [
    {
     "name": "stdout",
     "output_type": "stream",
     "text": [
      "Number of items in collection: 272\n",
      "Text of chunk-0:\n",
      "Artificial intelligence\n",
      "Artificial intelligence (AI) is the capability of computational systems to perform tasks typically\n",
      "associated with human intelligence, such as learning, reasoning, problem-solving, perception, and\n",
      "decision-making. It is a field of research in computer science that develops and studies methods and\n",
      "software that enable machines to perceive their environment and use learning and intelligence to take\n",
      "actions that maximize their chances of achieving defined goals.[1]\n",
      "High-profile applications of AI include advanced web search engines (e.g., Google Search);\n",
      "recommendation systems (used by YouTube, Amazon, and Netflix); virtual assistants (e.g., Google\n",
      "Assistant, Siri, and Alexa); autonomous vehicles (e.g., Waymo); generative and creative tools (e.g.,\n",
      "language models and AI art); and superhuman play and analysis in strategy games (e.g., chess and Go).\n",
      "However, many AI applications are not perceived as AI: \"A lot of cutting edge AI has filtered into general\n"
     ]
    }
   ],
   "source": [
    "# See how many vectors/documents are stored in your collection\n",
    "print(\"Number of items in collection:\", collection.count())\n",
    "\n",
    "result = collection.get(ids=[\"chunk-0\"])\n",
    "\n",
    "print(\"Text of chunk-0:\")\n",
    "print(result['documents'][0])"
   ]
  },
  {
   "cell_type": "code",
   "execution_count": 11,
   "id": "d250b1e6",
   "metadata": {},
   "outputs": [
    {
     "name": "stdout",
     "output_type": "stream",
     "text": [
      "Number of chunks in collection: 272\n"
     ]
    }
   ],
   "source": [
    "print(\"Number of chunks in collection:\", collection.count())\n"
   ]
  },
  {
   "cell_type": "code",
   "execution_count": null,
   "id": "f5574e97",
   "metadata": {},
   "outputs": [],
   "source": []
  }
 ],
 "metadata": {
  "kernelspec": {
   "display_name": "Python 3",
   "language": "python",
   "name": "python3"
  },
  "language_info": {
   "codemirror_mode": {
    "name": "ipython",
    "version": 3
   },
   "file_extension": ".py",
   "mimetype": "text/x-python",
   "name": "python",
   "nbconvert_exporter": "python",
   "pygments_lexer": "ipython3",
   "version": "3.11.9"
  }
 },
 "nbformat": 4,
 "nbformat_minor": 5
}
